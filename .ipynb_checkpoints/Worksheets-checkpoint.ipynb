{
 "cells": [
  {
   "cell_type": "code",
   "execution_count": 1,
   "metadata": {},
   "outputs": [],
   "source": [
    "import numpy as np\n",
    "from sympy import *\n",
    "from sympy.abc import x, t\n",
    "\n",
    "from parabolicpde import ParabolicProblem, backwardeuler\n",
    "from hyperbolicpde import HyperbolicProblem\n",
    "\n",
    "from visualizations import plot_solution\n",
    "import matplotlib.pyplot as plt"
   ]
  },
  {
   "cell_type": "markdown",
   "metadata": {},
   "source": [
    "## Worksheet 1 Question 3 ##"
   ]
  },
  {
   "cell_type": "code",
   "execution_count": 10,
   "metadata": {},
   "outputs": [
    {
     "name": "stdout",
     "output_type": "stream",
     "text": [
      "deltax = 0.01\n",
      "deltat          lambda          Error - BE      Error - CN      \n",
      "0.05000000      500.00          0.07726315      0.00500192      \n",
      "0.00500000      50.00           0.00638551      0.00003029      \n",
      "0.00050000      5.00            0.00064173      0.00002013      \n",
      "0.00005000      0.50            0.00008260      0.00002064      \n"
     ]
    },
    {
     "data": {
      "image/png": "[encoded data removed]",
      "text/plain": [
       "<Figure size 432x288 with 1 Axes>"
      ]
     },
     "metadata": {
      "needs_background": "light"
     },
     "output_type": "display_data"
    }
   ],
   "source": [
    "# Comparison of Backward Euler and Crank-Nicholson schemes varying deltat \n",
    "mx = 1000   # large value of mx = small value of deltax\n",
    "mt = np.logspace(1,4,7) # test across 4 orders of magnitude\n",
    "\n",
    "# Problem to use for test, uncomment to change test problem\n",
    "dp = ParabolicProblem()\n",
    "# dp = ParabolicProblem()\n",
    "# dp = ParabolicProblem()\n",
    "\n",
    "\n",
    "errors1 = []; errors2 = []; lmbdas = []\n",
    "u = exp(-(pi**2)*t)*sin(pi*x)  # exact solution\n",
    "\n",
    "print('deltax = {}'.format(1/mx))\n",
    "print('{:16}{:16}{:16}{:16}'.format('deltat', 'lambda', 'Error - BE', 'Error - CN'))\n",
    "for n in mt:\n",
    "    n = int(n)\n",
    "    _,error1,lmbda = dp.solve_at_T(0.5, mx, n, 'BE', u_exact=u, plot=False)\n",
    "    _,error2,_ = dp.solve_at_T(0.5, mx, n, 'CN', u_exact=u, plot=False)\n",
    "    lmbdas.append(lmbda)\n",
    "    errors1.append(error1)\n",
    "    errors2.append(error2)\n",
    "    print('{:<16.8f}{:<16.2f}{:<16.8f}{:<16.8f}'.format(\n",
    "            0.5/n, lmbda, error1, error2))\n",
    "\n",
    "deltat = 0.5 / mt\n",
    "plt.loglog(deltat, errors1, label='BE')\n",
    "plt.loglog(deltat, errors2, label='CN')\n",
    "plt.ylabel('Error')\n",
    "plt.xlabel(r'$\\Delta t$')\n",
    "plt.legend(loc='best')\n",
    "\n",
    "\n",
    "plt.show()"
   ]
  },
  {
   "cell_type": "code",
   "execution_count": null,
   "metadata": {},
   "outputs": [],
   "source": [
    "# Comparison of Backward-Euler and Crank-Nicholson schemes varying deltax\n",
    "mt = 1000   # large value of mt = small value of deltat\n",
    "mx = np.logspace(1,2,5) # test across 4 orders of magnitude\n",
    "\n",
    "# Problem to use for test, uncomment to change test problem\n",
    "dp = ParabolicProblem()\n",
    "# dp = ParabolicProblem()\n",
    "# dp = ParabolicProblem()\n",
    "\n",
    "\n",
    "errors1 = []; errors2 = []; lmbdas = []\n",
    "u = exp(-(pi**2)*t)*sin(pi*x)  # exact solution\n",
    "\n",
    "print('deltat = {}'.format(0.05/mt))\n",
    "print('{:16}{:16}{:16}{:16}'.format('deltax', 'lambda', 'Error - BE', 'Error - CN'))\n",
    "for m in mx:\n",
    "    m = int(m)\n",
    "    _,error1,lmbda = dp.solve_at_T(0.05, m, mt, 'BE', u_exact=u, plot=False)\n",
    "    _,error2,_ = dp.solve_at_T(0.05, m, mt, 'CN', u_exact=u, plot=False)\n",
    "    lmbdas.append(lmbda)\n",
    "    errors1.append(error1)\n",
    "    errors2.append(error2)\n",
    "    print('{:<16.8f}{:<16.2f}{:<16.8f}{:<16.8f}'.format(\n",
    "            1/m, lmbda, error1, error2))\n",
    "\n",
    "deltax = 1 / mx\n",
    "plt.loglog(deltax, errors1, label='BE')\n",
    "plt.loglog(deltax, errors2, label='CN')\n",
    "plt.ylabel('Error')\n",
    "plt.xlabel(r'$\\Delta x$')\n",
    "plt.legend(loc='best')\n",
    "\n",
    "plt.show()\n"
   ]
  },
  {
   "cell_type": "code",
   "execution_count": null,
   "metadata": {},
   "outputs": [],
   "source": []
  }
 ],
 "metadata": {
  "kernelspec": {
   "display_name": "Python 3",
   "language": "python",
   "name": "python3"
  },
  "language_info": {
   "codemirror_mode": {
    "name": "ipython",
    "version": 3
   },
   "file_extension": ".py",
   "mimetype": "text/x-python",
   "name": "python",
   "nbconvert_exporter": "python",
   "pygments_lexer": "ipython3",
   "version": "3.7.0"
  }
 },
 "nbformat": 4,
 "nbformat_minor": 2
}
