{
 "cells": [
  {
   "cell_type": "code",
   "execution_count": 1,
   "metadata": {},
   "outputs": [],
   "source": [
    "import numpy as np\n",
    "from sympy import *\n",
    "from sympy.abc import x, t\n",
    "\n",
    "from parabolicpde import ParabolicProblem, backwardeuler\n",
    "from hyperbolicpde import HyperbolicProblem\n",
    "\n",
    "from visualizations import plot_solution\n",
    "import matplotlib.pyplot as plt"
   ]
  },
  {
   "cell_type": "markdown",
   "metadata": {},
   "source": [
    "## Worksheet 1 Question 3 ##"
   ]
  },
  {
   "cell_type": "code",
   "execution_count": 2,
   "metadata": {},
   "outputs": [
    {
     "name": "stdout",
     "output_type": "stream",
     "text": [
      "deltax = 0.001\n",
      "deltat          lambda          Error - BE      Error - CN      \n",
      "0.05000000      50000.00        0.24421855      0.01587950      \n",
      "0.01612903      16129.03        0.06865465      0.00167282      \n",
      "0.00500000      5000.00         0.02012346      0.00016037      \n",
      "0.00158228      1582.28         0.00625189      0.00001548      \n",
      "0.00050000      500.00          0.00196424      0.00000096      \n",
      "0.00015813      158.13          0.00062047      0.00000049      \n",
      "0.00005000      50.00           0.00019652      0.00000064      \n"
     ]
    },
    {
     "data": {
      "image/png": "[encoded data removed]",
      "text/plain": [
       "<Figure size 432x288 with 1 Axes>"
      ]
     },
     "metadata": {
      "needs_background": "light"
     },
     "output_type": "display_data"
    }
   ],
   "source": [
    "# Comparison of Backward Euler and Crank-Nicholson schemes varying deltat \n",
    "mx = 1000   # large value of mx = small value of deltax\n",
    "mt = np.logspace(1,4,7) # test across 4 orders of magnitude\n",
    "\n",
    "# Problem to use for test, uncomment to change test problem\n",
    "dp = ParabolicProblem()\n",
    "# dp = ParabolicProblem(lbc=Neumann(0,0), rbc=Neumann(1,0), ic=x)\n",
    "# dp = ParabolicProblem(source=1, rbc=Dirichlet(1,1), ic=0)\n",
    "\n",
    "\n",
    "errors1 = []; errors2 = []; lmbdas = []\n",
    "u = exp(-(pi**2)*t)*sin(pi*x)  # exact solution\n",
    "\n",
    "print('deltax = {}'.format(1/mx))\n",
    "print('{:16}{:16}{:16}{:16}'.format('deltat', 'lambda', 'Error - BE', 'Error - CN'))\n",
    "for n in mt:\n",
    "    n = int(n)\n",
    "    _,error1,lmbda = dp.solve_at_T(0.5, mx, n, 'BE', u_exact=u, plot=False)\n",
    "    _,error2,_ = dp.solve_at_T(0.5, mx, n, 'CN', u_exact=u, plot=False)\n",
    "    lmbdas.append(lmbda)\n",
    "    errors1.append(error1)\n",
    "    errors2.append(error2)\n",
    "    print('{:<16.8f}{:<16.2f}{:<16.8f}{:<16.8f}'.format(\n",
    "            0.5/n, lmbda, error1, error2))\n",
    "\n",
    "deltat = 0.5 / mt\n",
    "plt.loglog(deltat, errors1, label='BE')\n",
    "plt.loglog(deltat, errors2, label='CN')\n",
    "plt.ylabel('Error')\n",
    "plt.xlabel(r'$\\Delta t$')\n",
    "plt.legend(loc='best')\n",
    "\n",
    "\n",
    "plt.show()"
   ]
  },
  {
   "cell_type": "code",
   "execution_count": 3,
   "metadata": {},
   "outputs": [
    {
     "name": "stdout",
     "output_type": "stream",
     "text": [
      "deltat = 1e-05\n",
      "deltax          lambda          Error - BE      Error - CN      \n",
      "0.10000000      0.00            0.00248938      0.00247470      \n",
      "0.05263158      0.00            0.00069856      0.00068380      \n",
      "0.02702703      0.01            0.00019566      0.00018082      \n",
      "0.01408451      0.05            0.00006400      0.00004914      \n",
      "0.00724638      0.19            0.00002788      0.00001301      \n",
      "0.00373134      0.72            0.00001832      0.00000345      \n",
      "0.00193424      2.67            0.00001579      0.00000093      \n",
      "0.00100000      10.00           0.00001511      0.00000025      \n"
     ]
    },
    {
     "data": {
      "image/png": "[encoded data removed]",
      "text/plain": [
       "<Figure size 432x288 with 1 Axes>"
      ]
     },
     "metadata": {
      "needs_background": "light"
     },
     "output_type": "display_data"
    }
   ],
   "source": [
    "# Comparison of Backward-Euler and Crank-Nicholson schemes varying deltax\n",
    "mt = 5000   # large value of mt = small value of deltat\n",
    "mx = np.logspace(1,3,8) # test across 2 orders of magnitude\n",
    "\n",
    "# Problem to use for test, uncomment to change test problem\n",
    "dp = ParabolicProblem()\n",
    "# dp = ParabolicProblem(lbc=Neumann(0,0), rbc=Neumann(1,0), ic=x)\n",
    "# dp = ParabolicProblem(source=1, rbc=Dirichlet(1,1), ic=0)\n",
    "\n",
    "\n",
    "errors1 = []; errors2 = []; lmbdas = []\n",
    "u = exp(-(pi**2)*t)*sin(pi*x)  # exact solution\n",
    "\n",
    "print('deltat = {}'.format(0.05/mt))\n",
    "print('{:16}{:16}{:16}{:16}'.format('deltax', 'lambda', 'Error - BE', 'Error - CN'))\n",
    "for m in mx:\n",
    "    m = int(m)\n",
    "    _,error1,lmbda = dp.solve_at_T(0.05, m, mt, 'BE', u_exact=u, plot=False, norm='Linf')\n",
    "    _,error2,_ = dp.solve_at_T(0.05, m, mt, 'CN', u_exact=u, plot=False, norm='Linf')\n",
    "    lmbdas.append(lmbda)\n",
    "    errors1.append(error1)\n",
    "    errors2.append(error2)\n",
    "    print('{:<16.8f}{:<16.2f}{:<16.8f}{:<16.8f}'.format(\n",
    "            1/m, lmbda, error1, error2))\n",
    "\n",
    "deltax = 1 / mx\n",
    "plt.loglog(deltax, errors1, label='BE')\n",
    "plt.loglog(deltax, errors2, label='CN')\n",
    "plt.ylabel('Error')\n",
    "plt.xlabel(r'$\\Delta x$')\n",
    "plt.legend(loc='best')\n",
    "\n",
    "plt.show()\n"
   ]
  },
  {
   "cell_type": "code",
   "execution_count": 4,
   "metadata": {},
   "outputs": [
    {
     "name": "stdout",
     "output_type": "stream",
     "text": [
      "deltat = 1e-05\n",
      "deltax          lambda          Error - FE      \n",
      "0.10000000      0.00004000      0.05981130      \n",
      "0.08333333      0.00005760      0.04200568      \n",
      "0.06250000      0.00010240      0.02387585      \n",
      "0.04761905      0.00017640      0.01389138      \n",
      "0.03703704      0.00029160      0.00843164      \n",
      "0.02857143      0.00049000      0.00490311      \n",
      "0.02173913      0.00084640      0.00290847      \n",
      "0.01694915      0.00139240      0.00176257      \n",
      "0.01298701      0.00237160      0.00102923      \n",
      "0.01000000      0.00400000      0.00060444      \n"
     ]
    },
    {
     "data": {
      "image/png": "[encoded data removed]",
      "text/plain": [
       "<Figure size 432x288 with 1 Axes>"
      ]
     },
     "metadata": {
      "needs_background": "light"
     },
     "output_type": "display_data"
    }
   ],
   "source": [
    "# Errors varying deltax with forward Euler scheme\n",
    "mt = 5000   # large value of mt = small value of deltat\n",
    "mx = np.logspace(1,2,10) \n",
    "\n",
    "# Problem to use for test, uncomment to change test problem\n",
    "dp = ParabolicProblem(L=5)  # increase width of interval to make deltax larger\n",
    "# dp = ParabolicProblem()\n",
    "# dp = ParabolicProblem()\n",
    "\n",
    "\n",
    "errors = []; lmbdas = []\n",
    "u = exp(-(pi**2)*t)*sin(pi*x)  # exact solution\n",
    "\n",
    "print('deltat = {}'.format(0.05/mt))\n",
    "print('{:16}{:16}{:16}'.format('deltax', 'lambda', 'Error - FE'))\n",
    "for m in mx:\n",
    "    m = int(m)\n",
    "    _,error,lmbda = dp.solve_at_T(0.05, m, mt, 'FE', u_exact=u, plot=False, norm='Linf')\n",
    "    lmbdas.append(lmbda)\n",
    "    errors.append(error)\n",
    "    print('{:<16.8f}{:<16.8f}{:<16.8f}'.format(\n",
    "            1/m, lmbda, error))\n",
    "\n",
    "deltax = 1 / mx\n",
    "plt.loglog(deltax, errors, label='FE')\n",
    "plt.ylabel('Error')\n",
    "plt.xlabel(r'$\\Delta x$')\n",
    "plt.legend(loc='best')\n",
    "\n",
    "plt.show()"
   ]
  },
  {
   "cell_type": "markdown",
   "metadata": {},
   "source": [
    "## Worksheet 2 Question 1: Stability and Accuracy##\n",
    "\n",
    "Demonstration of stability for explicit and implicit solvers of hyperbolic equations. For the explicit solver, $\\lambda = 1$ is the 'magic timestep'. The implicit solver is unconditionally stable."
   ]
  },
  {
   "cell_type": "code",
   "execution_count": 5,
   "metadata": {},
   "outputs": [
    {
     "name": "stdout",
     "output_type": "stream",
     "text": [
      "lambda              absolute error      \n",
      "0.500000000000000   0.000009285036161   \n",
      "0.625000000000000   0.000002807644673   \n",
      "0.750000000000000   0.000000764622725   \n",
      "0.875000000000000   0.000000127947435   \n",
      "1.000000000000000   0.000000000000005   \n",
      "1.125000000000000   10.109895354404332  \n",
      "1.250000000000000   63705904.584373556077480\n"
     ]
    }
   ],
   "source": [
    "# demonstrate stability of explicit method for lambda <= 1\n",
    "\n",
    "mx = np.linspace(20, 50, 7, dtype=np.int32) \n",
    "mt = 40\n",
    "T = 1\n",
    "# use default problem\n",
    "hp = HyperbolicProblem()\n",
    "\n",
    "u= cos(pi*t)*sin(pi*x)\n",
    "\n",
    "print('{:20}{:20}'.format('lambda', 'absolute error'))\n",
    "# use explicit solver\n",
    "for m in mx:\n",
    "    _, error, lmbda = hp.solve_at_T(T, m, mt, 'E', u_exact=u, plot=False)\n",
    "    print('{:<20.15f}{:<20.15f}'.format(lmbda, error))"
   ]
  },
  {
   "cell_type": "code",
   "execution_count": 6,
   "metadata": {},
   "outputs": [
    {
     "name": "stdout",
     "output_type": "stream",
     "text": [
      "lambda              absolute error      \n",
      "0.500000000000000   0.006996752232799   \n",
      "0.650000000000000   0.008543060075831   \n",
      "0.800000000000000   0.013113054149287   \n",
      "0.950000000000000   0.018304157607198   \n",
      "1.100000000000000   0.022486224375100   \n",
      "1.250000000000000   0.025933088796954   \n",
      "1.400000000000000   0.028656022191635   \n",
      "1.575000000000000   0.031843274460363   \n",
      "1.725000000000000   0.034090738848922   \n",
      "1.875000000000000   0.036279003421946   \n",
      "2.025000000000000   0.038632986905040   \n",
      "2.175000000000000   0.040925982388433   \n",
      "2.325000000000000   0.042996077533699   \n",
      "2.500000000000000   0.045154953819694   \n"
     ]
    }
   ],
   "source": [
    "# demonstrate unconditional stability of implicit method\n",
    "\n",
    "mx = np.linspace(20, 100, 14, dtype=np.int32) \n",
    "mt = 40\n",
    "T = 1\n",
    "# use default problem\n",
    "hp = HyperbolicProblem()\n",
    "\n",
    "u= cos(pi*t)*sin(pi*x)\n",
    "\n",
    "print('{:20}{:20}'.format('lambda', 'absolute error'))\n",
    "# use explicit solver\n",
    "for m in mx:\n",
    "    _, error, lmbda = hp.solve_at_T(T, m, mt, 'I', u_exact=u, plot=False)\n",
    "    print('{:<20.15f}{:<20.15f}'.format(lmbda, error))"
   ]
  },
  {
   "cell_type": "markdown",
   "metadata": {},
   "source": [
    "## Worksheet 2 Question 2: Tsunami ##"
   ]
  },
  {
   "cell_type": "code",
   "execution_count": 7,
   "metadata": {},
   "outputs": [
    {
     "data": {
      "image/png": "[encoded data removed]",
      "text/plain": [
       "<Figure size 432x288 with 1 Axes>"
      ]
     },
     "metadata": {
      "needs_background": "light"
     },
     "output_type": "display_data"
    }
   ],
   "source": [
    "from hyperbolicpde import TsunamiProblem\n",
    "\n",
    "# travelling wave with variable seabed\n",
    "L=50\n",
    "h0=8\n",
    "\n",
    "# initial wave\n",
    "wave = 20*exp(-(x-5)**2/3)\n",
    "\n",
    "# seabed disturbance\n",
    "seabed = 7*exp(-(x-25)**2/50)\n",
    "#seabed = 0\n",
    "\n",
    "tp = TsunamiProblem(L, h0, wave, seabed)\n",
    "\n",
    "# T = 40 makes a good animation\n",
    "uT = tp.solve_at_T(8.5, 250, 600, plot=True, animate=False)\n",
    "\n",
    "# to create animation\n",
    "# uT = tp.solve_at_T(40, 250, 600, plot=False, animate=True)"
   ]
  },
  {
   "cell_type": "markdown",
   "metadata": {},
   "source": [
    "## Worksheet 3 Question 1 ##"
   ]
  },
  {
   "cell_type": "code",
   "execution_count": 3,
   "metadata": {},
   "outputs": [
    {
     "name": "stderr",
     "output_type": "stream",
     "text": [
      "C:\\Users\\james\\Anaconda3\\lib\\site-packages\\numpy\\core\\fromnumeric.py:83: RuntimeWarning: invalid value encountered in reduce\n",
      "  return ufunc.reduce(obj, axis, dtype, out, **passkwargs)\n"
     ]
    },
    {
     "data": {
      "image/png": "[encoded data removed]",
      "text/plain": [
       "<Figure size 432x288 with 1 Axes>"
      ]
     },
     "metadata": {
      "needs_background": "light"
     },
     "output_type": "display_data"
    }
   ],
   "source": [
    "from ellipticpde import EllipticProblem\n",
    "import numpy as np\n",
    "import matplotlib.pyplot as plt\n",
    "\n",
    "# investigate number of interations for a range of omegas\n",
    "\n",
    "omegas = np.linspace(1,2,30)\n",
    "mx = 40              # number of gridpoints in x\n",
    "my = 20              # number of gridpoints in y\n",
    "maxerr = 1e-4        # target error\n",
    "maxcount = 1000      # maximum number of iteration steps\n",
    "omega = 1.5\n",
    "ep = EllipticProblem()  \n",
    "counts = []\n",
    "\n",
    "for omega in omegas:\n",
    "    _,count,_,_ = ep.solve(mx, my, maxcount, maxerr, omega, plot=False)\n",
    "    counts.append(count)\n",
    "\n",
    "plt.plot(omegas, counts)\n",
    "plt.xlabel(r'$\\omega$')\n",
    "plt.ylabel('No. of iterations')\n",
    "plt.show()"
   ]
  },
  {
   "cell_type": "code",
   "execution_count": 5,
   "metadata": {},
   "outputs": [
    {
     "name": "stderr",
     "output_type": "stream",
     "text": [
      "C:\\Users\\james\\Anaconda3\\lib\\site-packages\\numpy\\core\\fromnumeric.py:83: RuntimeWarning: invalid value encountered in reduce\n",
      "  return ufunc.reduce(obj, axis, dtype, out, **passkwargs)\n",
      "C:\\Users\\james\\Documents\\Scientific Computing\\pdes\\ellipticpde.py:101: RuntimeWarning: overflow encountered in double_scalars\n",
      "  lambdasqr*(u_new[i,j-1]+u_old[i,j+1]) )/(2*(1+lambdasqr))\n",
      "C:\\Users\\james\\Documents\\Scientific Computing\\pdes\\ellipticpde.py:105: RuntimeWarning: invalid value encountered in subtract\n",
      "  err = np.max(np.abs(u_new-u_old))\n"
     ]
    },
    {
     "name": "stdout",
     "output_type": "stream",
     "text": [
      "     fun: 52\n",
      "    nfev: 22\n",
      "     nit: 18\n",
      " success: True\n",
      "       x: 1.7777568954434548\n"
     ]
    }
   ],
   "source": [
    "from scipy.optimize import minimize_scalar\n",
    "\n",
    "\n",
    "def num_iterations(omega):\n",
    "    _,count,_,_=ep.solve(mx, my, maxcount, maxerr, omega, plot=False)\n",
    "    return count\n",
    "\n",
    "\n",
    "res = minimize_scalar(num_iterations, bracket=(1,2), tol=1e-5)\n",
    "print(res)"
   ]
  },
  {
   "cell_type": "code",
   "execution_count": null,
   "metadata": {},
   "outputs": [],
   "source": []
  }
 ],
 "metadata": {
  "kernelspec": {
   "display_name": "Python 3",
   "language": "python",
   "name": "python3"
  },
  "language_info": {
   "codemirror_mode": {
    "name": "ipython",
    "version": 3
   },
   "file_extension": ".py",
   "mimetype": "text/x-python",
   "name": "python",
   "nbconvert_exporter": "python",
   "pygments_lexer": "ipython3",
   "version": "3.7.0"
  }
 },
 "nbformat": 4,
 "nbformat_minor": 2
}
